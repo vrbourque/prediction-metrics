{
 "cells": [
  {
   "cell_type": "code",
   "execution_count": 13,
   "metadata": {},
   "outputs": [],
   "source": [
    "# ==============================================================================\n",
    "# title           : Prediction models\n",
    "# description     : \n",
    "# author          : V.-R. Bourque\n",
    "# date            : 2024-12\n",
    "# version         : 1\n",
    "# usage           : Python 3.11.10\n",
    "# notes           : example with simulated data\n",
    "# =============================================================================="
   ]
  },
  {
   "cell_type": "code",
   "execution_count": 14,
   "metadata": {},
   "outputs": [],
   "source": [
    "import pandas as pd\n",
    "import numpy as np\n",
    "from sklearn.model_selection import StratifiedKFold\n",
    "from sklearn.linear_model import LogisticRegression\n",
    "from train_models import train_k_fold_eval\n",
    "np.random.seed(123)"
   ]
  },
  {
   "cell_type": "code",
   "execution_count": 15,
   "metadata": {},
   "outputs": [],
   "source": [
    "# Load data\n",
    "from simulation_dataset import simulate\n",
    "df = simulate(cohorts = ['SSC', 'MSSNG', 'SPARK'], sample_sizes = [500, 500, 5000])"
   ]
  },
  {
   "cell_type": "code",
   "execution_count": 16,
   "metadata": {},
   "outputs": [],
   "source": [
    "# List all models\n",
    "var_list = [\n",
    "['sex','PGS'],\n",
    "['sex','PGS','DEL','DUP'],\n",
    "['sex','PGS','DEL','DUP','LOF','MIS']\n",
    "]"
   ]
  },
  {
   "cell_type": "code",
   "execution_count": 17,
   "metadata": {},
   "outputs": [
    {
     "name": "stdout",
     "output_type": "stream",
     "text": [
      "['sex', 'PGS']\n",
      "['sex', 'PGS', 'DEL', 'DUP']\n",
      "['sex', 'PGS', 'DEL', 'DUP', 'LOF', 'MIS']\n"
     ]
    }
   ],
   "source": [
    "# Define training and testing datasets\n",
    "df_train = df.loc[df['Cohort']=='SPARK'].reset_index()\n",
    "df_eval = df.loc[(df['Cohort']=='SSC')|(df['Cohort']=='MSSNG')].reset_index()\n",
    "\n",
    "# Classifier\n",
    "clf = LogisticRegression(random_state=0, penalty=None, max_iter=1000)\n",
    "\n",
    "# Train all models and predict\n",
    "ndf = train_k_fold_eval(df_train, df_eval, clf, ['sex'])\n",
    "for var in var_list:\n",
    "    print(var)\n",
    "    ndf[['mod_'+ '+'.join(var)]] = train_k_fold_eval(df_train, df_eval, clf, var)[['mod_'+'+'.join(var)]]"
   ]
  },
  {
   "cell_type": "code",
   "execution_count": 18,
   "metadata": {},
   "outputs": [],
   "source": [
    "# Save\n",
    "filepath = \"~/Documents/prediction_in_autism/package_version/\"\n",
    "ndf.to_csv(filepath+'data/simulated_data_predictions.csv')"
   ]
  }
 ],
 "metadata": {
  "kernelspec": {
   "display_name": "Python 3",
   "language": "python",
   "name": "python3"
  },
  "language_info": {
   "codemirror_mode": {
    "name": "ipython",
    "version": 3
   },
   "file_extension": ".py",
   "mimetype": "text/x-python",
   "name": "python",
   "nbconvert_exporter": "python",
   "pygments_lexer": "ipython3",
   "version": "3.11.10"
  }
 },
 "nbformat": 4,
 "nbformat_minor": 2
}
